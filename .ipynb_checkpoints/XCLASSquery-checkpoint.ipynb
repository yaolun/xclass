{
 "cells": [
  {
   "cell_type": "code",
   "execution_count": 1,
   "metadata": {},
   "outputs": [],
   "source": [
    "import matplotlib\n",
    "matplotlib.use('Agg')\n",
    "#\n",
    "import sys\n",
    "import os\n",
    "\n",
    "# get environment variable for XCLASS root directory\n",
    "XCLASSRootDir = str(os.environ.get('XCLASSRootDir', ''))\n",
    "XCLASSRootDir = XCLASSRootDir.strip()\n",
    "if (XCLASSRootDir != \"\"):\n",
    "    NewModulesPath = XCLASSRootDir + \"/build_tasks/\"\n",
    "else:\n",
    "    # use the following line to define XCLASS root directory manually\n",
    "    NewModulesPath = \"/home/bettyjo/yaolun/XCLASS-Interface/build_tasks/\"\n",
    "\n",
    "# extend sys.path variable\n",
    "if NewModulesPath not in sys.path:\n",
    "    sys.path.append(NewModulesPath)\n",
    "\n",
    "# Update XCLASS database\n",
    "\n",
    "# import task_UpdateDatabase\n",
    "# DBUpdateNew = 'new'\n",
    "# task_UpdateDatabase.UpdateDatabase(DBUpdateNew)"
   ]
  },
  {
   "cell_type": "code",
   "execution_count": 48,
   "metadata": {},
   "outputs": [],
   "source": [
    "def XCLASSquery(freqlow, freqhigh):\n",
    "    # call GetTransition function\n",
    "    # import ListDatabase package\n",
    "    import task_ListDatabase\n",
    "    # call ListDatabase function \n",
    "    FreqMin = freqlow\n",
    "    FreqMax = freqhigh\n",
    "    ElowMin = 0.0\n",
    "    ElowMax = 3000.0\n",
    "    SelectMolecule = []\n",
    "    OutputDevice = 'quiet'\n",
    "    Contents = task_ListDatabase.ListDatabase(FreqMin, FreqMax, ElowMin, ElowMax,\n",
    "                                              SelectMolecule, OutputDevice)\n",
    "    # parse the Contents array\n",
    "    output = Table(np.array([c.split() for c in Contents]),\n",
    "      names=('name', 'upper_state', 'lower_state', 'freq[MHz]', 'error_freq[MHz]', 'Einstein_A', 'lower_energy[K]', 'upper_state_degeneracy'),\n",
    "      dtype=('U34','U34', 'U34', 'f8', 'f8', 'f8', 'f8', 'f8'))\n",
    "    \n",
    "    return output"
   ]
  },
  {
   "cell_type": "code",
   "execution_count": 78,
   "metadata": {},
   "outputs": [
    {
     "data": {
      "text/html": [
       "&lt;Table length=11&gt;\n",
       "<table id=\"table4508067856-375971\" class=\"table table-striped table-bordered table-condensed\">\n",
       "<thead><tr><th>name</th><th>upper_state</th><th>lower_state</th><th>freq[MHz]</th><th>error_freq[MHz]</th><th>Einstein_A</th><th>lower_energy[K]</th><th>upper_state_degeneracy</th></tr></thead>\n",
       "<tr><td>OO-18-O;v2=1;</td><td>X;v1=0;v2=1;v3=0;J=37;Ka=8;Kc=30;</td><td>X;v1=0;v2=1;v3=0;J=38;Ka=7;Kc=31;</td><td>345444.7175</td><td>0.9939</td><td>1.076e-05</td><td>2070.182</td><td>75.0</td></tr>\n",
       "<tr><td>HCO;v=0;</td><td>X;S=0.5;J=4.5;N=4;Ka=2;Kc=3;F_H=4;</td><td>X;S=0.5;J=3.5;N=3;Ka=2;Kc=2;F_H=4;</td><td>345444.7762</td><td>0.1484</td><td>8.702e-06</td><td>156.228</td><td>9.0</td></tr>\n",
       "<tr><td>NCHCCO;v=0;</td><td>X;J=59;Ka=7;Kc=53;</td><td>X;J=59;Ka=6;Kc=54;</td><td>345444.8114</td><td>2.7233</td><td>0.0005778</td><td>503.927</td><td>120.0</td></tr>\n",
       "<tr><td>CH3OC-13-HO;v18=1;</td><td>X;v18=1;J=28;Ka=8;Kc=20;rovibSy...</td><td>X;v18=1;J=27;Ka=8;Kc=19;rovibSy...</td><td>345444.863</td><td>0.1</td><td>0.0002939</td><td>452.449</td><td>110.0</td></tr>\n",
       "<tr><td>CH3COCH3;v=0;</td><td>X;J=38;Ka=35;Kc=3;rovibSym=EA;</td><td>X;J=37;Ka=36;Kc=1;rovibSym=EA;</td><td>345445.0083</td><td>7.3734</td><td>4.15e-06</td><td>669.674</td><td>310.0</td></tr>\n",
       "<tr><td>AA-n-C4H9CN;v=0;</td><td>X;J=82;Ka=5;Kc=77;</td><td>X;J=81;Ka=4;Kc=78;</td><td>345445.1182</td><td>0.0123</td><td>0.0001484</td><td>425.165</td><td>160.0</td></tr>\n",
       "<tr><td>C2H5OOCH;v=0;</td><td>X;Conformer=trans;J=63;Ka=29;Kc...</td><td>X;Conformer=trans;J=62;Ka=29;Kc...</td><td>345445.6626</td><td>7.4935</td><td>0.000642</td><td>1117.032</td><td>130.0</td></tr>\n",
       "<tr><td>C2H5OOCH;v=0;</td><td>X;Conformer=trans;J=63;Ka=29;Kc...</td><td>X;Conformer=trans;J=62;Ka=29;Kc...</td><td>345445.6626</td><td>7.4935</td><td>0.000642</td><td>1117.032</td><td>130.0</td></tr>\n",
       "<tr><td>HCCCHO;v=0;#1</td><td>X;J=37;Ka=4;Kc=33;</td><td>X;J=38;Ka=2;Kc=36;</td><td>345445.8499</td><td>4.3936</td><td>8.798e-08</td><td>346.942</td><td>75.0</td></tr>\n",
       "<tr><td>C2H3OCHO;v=0;</td><td>X;J=58;Ka=32;Kc=27;</td><td>X;J=57;Ka=32;Kc=26;</td><td>345445.9255</td><td>0.0325</td><td>0.0002002</td><td>1322.739</td><td>120.0</td></tr>\n",
       "<tr><td>C2H3OCHO;v=0;</td><td>X;J=58;Ka=32;Kc=26;</td><td>X;J=57;Ka=32;Kc=25;</td><td>345445.9255</td><td>0.0325</td><td>0.0002002</td><td>1322.739</td><td>120.0</td></tr>\n",
       "</table><style>table.dataTable {clear: both; width: auto !important; margin: 0 !important;}\n",
       ".dataTables_info, .dataTables_length, .dataTables_filter, .dataTables_paginate{\n",
       "display: inline-block; margin-right: 1em; }\n",
       ".paginate_button { margin-right: 5px; }\n",
       "</style>\n",
       "<script>\n",
       "require.config({paths: {\n",
       "    datatables: 'https://cdn.datatables.net/1.10.9/js/jquery.dataTables.min'\n",
       "}});\n",
       "require([\"datatables\"], function(){\n",
       "    console.log(\"$('#table4508067856-375971').dataTable()\");\n",
       "    $('#table4508067856-375971').dataTable({\n",
       "        \"order\": [],\n",
       "        \"iDisplayLength\": 50,\n",
       "        \"aLengthMenu\": [[10, 25, 50, 100, 500, 1000, -1], [10, 25, 50, 100, 500, 1000, 'All']],\n",
       "        \"pagingType\": \"full_numbers\"\n",
       "    });\n",
       "});\n",
       "</script>\n"
      ],
      "text/plain": [
       "<IPython.core.display.HTML object>"
      ]
     },
     "execution_count": 78,
     "metadata": {},
     "output_type": "execute_result"
    }
   ],
   "source": [
    "a = XCLASSquery(345444, 345446)\n",
    "a.show_in_notebook()"
   ]
  },
  {
   "cell_type": "markdown",
   "metadata": {},
   "source": [
    "### parse the entire molfit for individual spw"
   ]
  },
  {
   "cell_type": "code",
   "execution_count": null,
   "metadata": {},
   "outputs": [],
   "source": []
  }
 ],
 "metadata": {
  "kernelspec": {
   "display_name": "Python 2",
   "language": "python",
   "name": "python2"
  },
  "language_info": {
   "codemirror_mode": {
    "name": "ipython",
    "version": 2
   },
   "file_extension": ".py",
   "mimetype": "text/x-python",
   "name": "python",
   "nbconvert_exporter": "python",
   "pygments_lexer": "ipython2",
   "version": "2.7.11"
  }
 },
 "nbformat": 4,
 "nbformat_minor": 2
}
