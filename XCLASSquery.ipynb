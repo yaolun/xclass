{
 "cells": [
  {
   "cell_type": "code",
   "execution_count": 1,
   "metadata": {},
   "outputs": [],
   "source": [
    "import matplotlib\n",
    "matplotlib.use('Agg')\n",
    "#\n",
    "import sys\n",
    "import os\n",
    "\n",
    "# get environment variable for XCLASS root directory\n",
    "XCLASSRootDir = str(os.environ.get('XCLASSRootDir', ''))\n",
    "XCLASSRootDir = XCLASSRootDir.strip()\n",
    "if (XCLASSRootDir != \"\"):\n",
    "    NewModulesPath = XCLASSRootDir + \"/build_tasks/\"\n",
    "else:\n",
    "    # use the following line to define XCLASS root directory manually\n",
    "    NewModulesPath = \"/home/bettyjo/yaolun/XCLASS-Interface/build_tasks/\"\n",
    "\n",
    "# extend sys.path variable\n",
    "if NewModulesPath not in sys.path:\n",
    "    sys.path.append(NewModulesPath)\n",
    "\n",
    "# Update XCLASS database\n",
    "\n",
    "# import task_UpdateDatabase\n",
    "# DBUpdateNew = 'new'\n",
    "# task_UpdateDatabase.UpdateDatabase(DBUpdateNew)"
   ]
  },
  {
   "cell_type": "code",
   "execution_count": 2,
   "metadata": {},
   "outputs": [],
   "source": [
    "def XCLASSquery(freqlow, freqhigh):\n",
    "    # call GetTransition function\n",
    "    # import ListDatabase package\n",
    "    import task_ListDatabase\n",
    "    from astropy.table import Table\n",
    "    import numpy as np\n",
    "    # call ListDatabase function \n",
    "    FreqMin = freqlow\n",
    "    FreqMax = freqhigh\n",
    "    ElowMin = 0.0\n",
    "    ElowMax = 3000.0\n",
    "    SelectMolecule = []\n",
    "    OutputDevice = 'quiet'\n",
    "    Contents = task_ListDatabase.ListDatabase(FreqMin, FreqMax, ElowMin, ElowMax,\n",
    "                                              SelectMolecule, OutputDevice)\n",
    "    # parse the Contents array\n",
    "    output = Table(np.array([c.split() for c in Contents]),\n",
    "      names=('name', 'upper_state', 'lower_state', 'freq[MHz]', 'error_freq[MHz]', 'Einstein_A', 'lower_energy[K]', 'upper_state_degeneracy'),\n",
    "      dtype=('U34','U34', 'U34', 'f8', 'f8', 'f8', 'f8', 'f8'))\n",
    "    \n",
    "    return output"
   ]
  },
  {
   "cell_type": "code",
   "execution_count": 6,
   "metadata": {},
   "outputs": [
    {
     "data": {
      "text/html": [
       "&lt;Table length=13&gt;\n",
       "<table id=\"table47013613485712-714535\" class=\"table-striped table-bordered table-condensed\">\n",
       "<thead><tr><th>idx</th><th>name</th><th>upper_state</th><th>lower_state</th><th>freq[MHz]</th><th>error_freq[MHz]</th><th>Einstein_A</th><th>lower_energy[K]</th><th>upper_state_degeneracy</th></tr></thead>\n",
       "<tr><td>0</td><td>HCOCH2OH;v=0;</td><td>X;v12=0;v17=0;v18=0;J=63;Ka=5;K...</td><td>X;v12=0;v17=0;v18=0;J=64;Ka=4;K...</td><td>345282.3208</td><td>0.716</td><td>2.6e-06</td><td>1084.007</td><td>130.0</td></tr>\n",
       "<tr><td>1</td><td>HCOCH2OH;v=0;</td><td>X;v12=0;v17=0;v18=0;J=63;Ka=6;K...</td><td>X;v12=0;v17=0;v18=0;J=64;Ka=3;K...</td><td>345282.3214</td><td>0.716</td><td>2.6e-06</td><td>1084.007</td><td>130.0</td></tr>\n",
       "<tr><td>2</td><td>CH2DipCH2CN;v=0;</td><td>X;J=42;Ka=1;Kc=41;</td><td>X;J=41;Ka=1;Kc=40;</td><td>345282.4226</td><td>0.0109</td><td>0.003494</td><td>347.679</td><td>85.0</td></tr>\n",
       "<tr><td>3</td><td>c-C6H5OCH3;v=0;</td><td>X;J=119;Ka=24;Kc=96;</td><td>X;J=118;Ka=24;Kc=95;</td><td>345282.5049</td><td>0.0156</td><td>0.0001099</td><td>1057.583</td><td>240.0</td></tr>\n",
       "<tr><td>4</td><td>CH3OCHO;v=0;</td><td>X;v18=0;J=48;Ka=14;Kc=35;rovibS...</td><td>X;v18=0;J=48;Ka=13;Kc=36;rovibS...</td><td>345282.5212</td><td>0.0076</td><td>5.031e-05</td><td>811.401</td><td>190.0</td></tr>\n",
       "<tr><td>5</td><td>NH2CH2CH2OH;v26=1,v27=1;</td><td>X;v25=0;v26=1;v27=1;J=59;Ka=2;K...</td><td>X;v25=0;v26=1;v27=1;J=59;Ka=2;K...</td><td>345282.5507</td><td>3.327</td><td>1.618e-05</td><td>1180.343</td><td>120.0</td></tr>\n",
       "<tr><td>6</td><td>NH2CH2CH2OH;v26=1,v27=1;</td><td>X;v25=0;v26=1;v27=1;J=59;Ka=2;K...</td><td>X;v25=0;v26=1;v27=1;J=59;Ka=1;K...</td><td>345282.5507</td><td>3.327</td><td>2.09e-05</td><td>1180.343</td><td>120.0</td></tr>\n",
       "<tr><td>7</td><td>NH2CH2CH2OH;v26=1,v27=1;</td><td>X;v25=0;v26=1;v27=1;J=59;Ka=3;K...</td><td>X;v25=0;v26=1;v27=1;J=59;Ka=2;K...</td><td>345282.5507</td><td>3.327</td><td>2.09e-05</td><td>1180.343</td><td>120.0</td></tr>\n",
       "<tr><td>8</td><td>NH2CH2CH2OH;v26=1,v27=1;</td><td>X;v25=0;v26=1;v27=1;J=59;Ka=3;K...</td><td>X;v25=0;v26=1;v27=1;J=59;Ka=1;K...</td><td>345282.5507</td><td>3.327</td><td>1.618e-05</td><td>1180.343</td><td>120.0</td></tr>\n",
       "<tr><td>9</td><td>NH2CH2CH2OH;v25=1;</td><td>X;v25=1;v26=0;v27=0;J=34;Ka=15;...</td><td>X;v25=1;v26=0;v27=0;J=33;Ka=15;...</td><td>345283.0325</td><td>0.0389</td><td>0.001336</td><td>813.85</td><td>69.0</td></tr>\n",
       "<tr><td>10</td><td>NH2CH2CH2OH;v25=1;</td><td>X;v25=1;v26=0;v27=0;J=34;Ka=15;...</td><td>X;v25=1;v26=0;v27=0;J=33;Ka=15;...</td><td>345283.0325</td><td>0.0389</td><td>0.001336</td><td>813.85</td><td>69.0</td></tr>\n",
       "<tr><td>11</td><td>a&apos;GG&apos;g-CH2OHCH2CH2OH;v=0;</td><td>X;vibInv=a;J=83;Ka=27;Kc=57;</td><td>X;vibInv=a;J=82;Ka=30;Kc=53;</td><td>345283.4724</td><td>0.4773</td><td>2.478e-05</td><td>1317.952</td><td>170.0</td></tr>\n",
       "<tr><td>12</td><td>a&apos;GG&apos;g-CH2OHCH2CH2OH;v=0;</td><td>X;vibInv=s;J=83;Ka=27;Kc=57;</td><td>X;vibInv=s;J=82;Ka=30;Kc=53;</td><td>345283.564</td><td>0.4773</td><td>2.478e-05</td><td>1317.952</td><td>170.0</td></tr>\n",
       "</table><style>table.dataTable {clear: both; width: auto !important; margin: 0 !important;}\n",
       ".dataTables_info, .dataTables_length, .dataTables_filter, .dataTables_paginate{\n",
       "display: inline-block; margin-right: 1em; }\n",
       ".paginate_button { margin-right: 5px; }\n",
       "</style>\n",
       "<script>\n",
       "\n",
       "var astropy_sort_num = function(a, b) {\n",
       "    var a_num = parseFloat(a);\n",
       "    var b_num = parseFloat(b);\n",
       "\n",
       "    if (isNaN(a_num) && isNaN(b_num))\n",
       "        return ((a < b) ? -1 : ((a > b) ? 1 : 0));\n",
       "    else if (!isNaN(a_num) && !isNaN(b_num))\n",
       "        return ((a_num < b_num) ? -1 : ((a_num > b_num) ? 1 : 0));\n",
       "    else\n",
       "        return isNaN(a_num) ? -1 : 1;\n",
       "}\n",
       "\n",
       "require.config({paths: {\n",
       "    datatables: 'https://cdn.datatables.net/1.10.12/js/jquery.dataTables.min'\n",
       "}});\n",
       "require([\"datatables\"], function(){\n",
       "    console.log(\"$('#table47013613485712-714535').dataTable()\");\n",
       "    \n",
       "jQuery.extend( jQuery.fn.dataTableExt.oSort, {\n",
       "    \"optionalnum-asc\": astropy_sort_num,\n",
       "    \"optionalnum-desc\": function (a,b) { return -astropy_sort_num(a, b); }\n",
       "});\n",
       "\n",
       "    $('#table47013613485712-714535').dataTable({\n",
       "        order: [],\n",
       "        pageLength: 50,\n",
       "        lengthMenu: [[10, 25, 50, 100, 500, 1000, -1], [10, 25, 50, 100, 500, 1000, 'All']],\n",
       "        pagingType: \"full_numbers\",\n",
       "        columnDefs: [{targets: [0, 4, 5, 6, 7, 8], type: \"optionalnum\"}]\n",
       "    });\n",
       "});\n",
       "</script>\n"
      ],
      "text/plain": [
       "<IPython.core.display.HTML object>"
      ]
     },
     "execution_count": 6,
     "metadata": {},
     "output_type": "execute_result"
    }
   ],
   "source": [
    "a = XCLASSquery(345282, 345284)\n",
    "a.show_in_notebook()"
   ]
  },
  {
   "cell_type": "code",
   "execution_count": null,
   "metadata": {},
   "outputs": [],
   "source": []
  }
 ],
 "metadata": {
  "kernelspec": {
   "display_name": "Python 2",
   "language": "python",
   "name": "python2"
  },
  "language_info": {
   "codemirror_mode": {
    "name": "ipython",
    "version": 2
   },
   "file_extension": ".py",
   "mimetype": "text/x-python",
   "name": "python",
   "nbconvert_exporter": "python",
   "pygments_lexer": "ipython2",
   "version": "2.7.13"
  }
 },
 "nbformat": 4,
 "nbformat_minor": 2
}
