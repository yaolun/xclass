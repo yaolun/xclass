{
 "cells": [
  {
   "cell_type": "code",
   "execution_count": 1,
   "metadata": {},
   "outputs": [],
   "source": [
    "import matplotlib\n",
    "matplotlib.use('Agg')\n",
    "#\n",
    "import sys\n",
    "import os\n",
    "\n",
    "# get environment variable for XCLASS root directory\n",
    "XCLASSRootDir = str(os.environ.get('XCLASSRootDir', ''))\n",
    "XCLASSRootDir = XCLASSRootDir.strip()\n",
    "if (XCLASSRootDir != \"\"):\n",
    "    NewModulesPath = XCLASSRootDir + \"/build_tasks/\"\n",
    "else:\n",
    "    # use the following line to define XCLASS root directory manually\n",
    "    NewModulesPath = \"/home/bettyjo/yaolun/XCLASS-Interface/build_tasks/\"\n",
    "\n",
    "# extend sys.path variable\n",
    "if NewModulesPath not in sys.path:\n",
    "    sys.path.append(NewModulesPath)\n",
    "\n",
    "# Update XCLASS database\n",
    "\n",
    "# import task_UpdateDatabase\n",
    "# DBUpdateNew = 'new'\n",
    "# task_UpdateDatabase.UpdateDatabase(DBUpdateNew)"
   ]
  },
  {
   "cell_type": "code",
   "execution_count": 28,
   "metadata": {},
   "outputs": [],
   "source": [
    "def XCLASSquery(freqlow, freqhigh):\n",
    "    # call GetTransition function\n",
    "    # import ListDatabase package\n",
    "    import task_ListDatabase\n",
    "    # call ListDatabase function \n",
    "    FreqMin = freqlow\n",
    "    FreqMax = freqhigh\n",
    "    ElowMin = 0.0\n",
    "    ElowMax = 3000.0\n",
    "    SelectMolecule = []\n",
    "    OutputDevice = 'quiet'\n",
    "    Contents = task_ListDatabase.ListDatabase(FreqMin, FreqMax, ElowMin, ElowMax,\n",
    "                                              SelectMolecule, OutputDevice)\n",
    "    \n",
    "    # parse the Contents array\n",
    "    output = Table(np.array([c.split() for c in Contents]),\n",
    "      names=('name', 'upper_state', 'lower_state', 'freq[MHz]', 'error_freq[MHz]', 'Einstein_A', 'lower_energy[K]', 'upper_state_degeneracy'),\n",
    "      dtype=('U34','U34', 'U34', 'f8', 'f8', 'f8', 'f8', 'f8'))\n",
    "    \n",
    "    return output"
   ]
  },
  {
   "cell_type": "code",
   "execution_count": 35,
   "metadata": {},
   "outputs": [
    {
     "data": {
      "text/html": [
       "&lt;Table length=39&gt;\n",
       "<table id=\"table4506977680-194385\" class=\"table table-striped table-bordered table-condensed\">\n",
       "<thead><tr><th>name</th><th>upper_state</th><th>lower_state</th><th>freq[MHz]</th><th>error_freq[MHz]</th><th>Einstein_A</th><th>lower_energy[K]</th><th>upper_state_degeneracy</th></tr></thead>\n",
       "<tr><td>CH3NH2;v=0;</td><td>X;l=-1;vibSym=E1;J=8;K=5;</td><td>X;l=-1;vibSym=E1;J=7;K=5;</td><td>354597.2491</td><td>0.0117</td><td>1.412e-05</td><td>157.278</td><td>100.0</td></tr>\n",
       "<tr><td>CH2DOH;v=0;</td><td>X;v12=0;J=17;Ka=15;Kc=3;rotSym=o1;</td><td>X;v12=0;J=18;Ka=14;Kc=5;rotSym=e1;</td><td>354597.3189</td><td>1000.0</td><td>7.972e-07</td><td>1105.838</td><td>35.0</td></tr>\n",
       "<tr><td>CH2DOH;v=0;</td><td>X;v12=0;J=17;Ka=15;Kc=2;rotSym=o1;</td><td>X;v12=0;J=18;Ka=14;Kc=4;rotSym=e1;</td><td>354597.3189</td><td>1000.0</td><td>7.972e-07</td><td>1105.838</td><td>35.0</td></tr>\n",
       "<tr><td>c-C3H6O;v=0;</td><td>X;J=51;Ka=18;Kc=34;</td><td>X;J=51;Ka=16;Kc=35;</td><td>354597.5542</td><td>0.5566</td><td>0.0002597</td><td>1208.218</td><td>720.0</td></tr>\n",
       "<tr><td>c-C3H6O;v=0;</td><td>X;J=51;Ka=17;Kc=34;</td><td>X;J=51;Ka=17;Kc=35;</td><td>354597.5542</td><td>0.5566</td><td>0.0002597</td><td>1208.218</td><td>930.0</td></tr>\n",
       "<tr><td>CH3NH2;v=0;</td><td>X;vibSym=A2;J=8;K=5;</td><td>X;vibSym=A1;J=7;K=5;</td><td>354597.9803</td><td>0.0118</td><td>1.406e-05</td><td>156.759</td><td>68.0</td></tr>\n",
       "<tr><td>CH3NH2;v=0;</td><td>X;vibSym=A1;J=8;K=5;</td><td>X;vibSym=A2;J=7;K=5;</td><td>354597.9804</td><td>0.0118</td><td>1.406e-05</td><td>156.759</td><td>68.0</td></tr>\n",
       "<tr><td>C3H7CN;v=0;</td><td>X;Conformer=gauche;J=46;Ka=10;K...</td><td>X;Conformer=gauche;J=46;Ka=7;Kc...</td><td>354598.0804</td><td>0.1882</td><td>8.488e-06</td><td>461.668</td><td>93.0</td></tr>\n",
       "<tr><td>C3H7CN;v=0;</td><td>X;Conformer=gauche;J=41;Ka=4;Kc...</td><td>X;Conformer=gauche;J=42;Ka=1;Kc...</td><td>354598.1487</td><td>0.2593</td><td>1.145e-09</td><td>370.31</td><td>83.0</td></tr>\n",
       "<tr><td>CH2DipCH2CN;v=0;</td><td>X;J=42;Ka=18;Kc=24;</td><td>X;J=41;Ka=18;Kc=23;</td><td>354598.3406</td><td>0.011</td><td>0.003103</td><td>710.853</td><td>85.0</td></tr>\n",
       "<tr><td>CH2DipCH2CN;v=0;</td><td>X;J=42;Ka=18;Kc=25;</td><td>X;J=41;Ka=18;Kc=24;</td><td>354598.3406</td><td>0.011</td><td>0.003103</td><td>710.853</td><td>85.0</td></tr>\n",
       "<tr><td>CH3NH2;v=0;</td><td>X;l=1;vibSym=E1;J=8;K=5;</td><td>X;l=1;vibSym=E1;J=7;K=5;</td><td>354598.4578</td><td>0.0117</td><td>1.396e-05</td><td>156.992</td><td>100.0</td></tr>\n",
       "<tr><td>HNO3;v9=2;</td><td>$;v9=2;J=31;Ka=4;Kc=28;F_N=30;</td><td>$;v9=2;J=31;Ka=3;Kc=29;F_N=30;</td><td>354598.6271</td><td>0.0206</td><td>6.912e-05</td><td>1632.018</td><td>61.0</td></tr>\n",
       "<tr><td>HNO3;v9=2;</td><td>$;v9=2;J=31;Ka=4;Kc=28;F_N=31;</td><td>$;v9=2;J=31;Ka=3;Kc=29;F_N=31;</td><td>354598.6271</td><td>0.0206</td><td>6.906e-05</td><td>1632.018</td><td>63.0</td></tr>\n",
       "<tr><td>HNO3;v9=2;</td><td>$;v9=2;J=31;Ka=4;Kc=28;F_N=32;</td><td>$;v9=2;J=31;Ka=3;Kc=29;F_N=32;</td><td>354598.6271</td><td>0.0206</td><td>6.912e-05</td><td>1632.018</td><td>65.0</td></tr>\n",
       "<tr><td>OC(CN)2;v=0;</td><td>X;J=35;Ka=8;Kc=27;</td><td>X;J=34;Ka=7;Kc=28;</td><td>354598.6632</td><td>0.0057</td><td>4.469e-06</td><td>154.112</td><td>71.0</td></tr>\n",
       "<tr><td>H2NCO2CH3;v24=1;</td><td>X;v24=1;vibSym=E;J=25;Ka=20;Kc=...</td><td>X;v24=1;vibSym=E;J=25;Ka=19;Kc=...</td><td>354599.8721</td><td>3.6823</td><td>0.0001874</td><td>410.72</td><td>100.0</td></tr>\n",
       "<tr><td>a&apos;GG&apos;g-CH2OHCH2CH2OH;v=0;</td><td>X;vibInv=a;J=84;Ka=29;Kc=56;</td><td>X;vibInv=a;J=83;Ka=34;Kc=49;</td><td>354600.0171</td><td>0.5096</td><td>5.087e-05</td><td>1345.615</td><td>170.0</td></tr>\n",
       "<tr><td>C3H7CN;v=0;</td><td>X;Conformer=gauche;J=46;Ka=10;K...</td><td>X;Conformer=gauche;J=47;Ka=5;Kc...</td><td>354600.0212</td><td>0.2299</td><td>1.957e-08</td><td>461.823</td><td>93.0</td></tr>\n",
       "<tr><td>H2NCO2CH3;v24=1;</td><td>X;v24=1;vibSym=E;J=25;Ka=20;Kc=...</td><td>X;v24=1;vibSym=E;J=25;Ka=19;Kc=...</td><td>354600.0762</td><td>3.6823</td><td>0.0001877</td><td>410.72</td><td>110.0</td></tr>\n",
       "<tr><td>H2NCO2CH3;v24=1;</td><td>X;v24=1;vibSym=E;J=25;Ka=20;Kc=...</td><td>X;v24=1;vibSym=E;J=25;Ka=19;Kc=...</td><td>354600.0844</td><td>3.6823</td><td>0.0001876</td><td>410.72</td><td>98.0</td></tr>\n",
       "<tr><td>a&apos;GG&apos;g-CH2OHCH2CH2OH;v=0;</td><td>X;vibInv=s;J=84;Ka=29;Kc=56;</td><td>X;vibInv=s;J=83;Ka=34;Kc=49;</td><td>354600.1195</td><td>0.5096</td><td>5.087e-05</td><td>1345.615</td><td>170.0</td></tr>\n",
       "<tr><td>CH3NH2;v=0;</td><td>X;vibSym=B2;J=8;K=5;</td><td>X;vibSym=B1;J=7;K=5;</td><td>354600.5152</td><td>29.979</td><td>1.399e-05</td><td>157.032</td><td>200.0</td></tr>\n",
       "<tr><td>CH3NH2;v=0;</td><td>X;vibSym=B1;J=8;K=5;</td><td>X;vibSym=B2;J=7;K=5;</td><td>354600.5152</td><td>29.979</td><td>1.399e-05</td><td>157.032</td><td>200.0</td></tr>\n",
       "<tr><td>CH3NH2;v=0;</td><td>X;vibSym=B1;J=8;K=6;</td><td>X;vibSym=B2;J=7;K=6;</td><td>354600.5152</td><td>29.979</td><td>1.016e-05</td><td>199.823</td><td>200.0</td></tr>\n",
       "<tr><td>CH3NH2;v=0;</td><td>X;vibSym=B2;J=8;K=6;</td><td>X;vibSym=B1;J=7;K=6;</td><td>354600.5152</td><td>29.979</td><td>1.016e-05</td><td>199.823</td><td>200.0</td></tr>\n",
       "<tr><td>C3H7CN;v=0;</td><td>X;Conformer=anti;J=80;Ka=31;Kc=49;</td><td>X;Conformer=anti;J=79;Ka=31;Kc=48;</td><td>354600.5907</td><td>2.2461</td><td>0.002461</td><td>1651.967</td><td>160.0</td></tr>\n",
       "<tr><td>C3H7CN;v=0;</td><td>X;Conformer=anti;J=80;Ka=31;Kc=50;</td><td>X;Conformer=anti;J=79;Ka=31;Kc=49;</td><td>354600.5907</td><td>2.2461</td><td>0.002461</td><td>1651.967</td><td>160.0</td></tr>\n",
       "<tr><td>CC-13CS;v=0;</td><td>X;J=62;</td><td>X;J=61;</td><td>354600.6914</td><td>0.0084</td><td>0.003531</td><td>519.206</td><td>120.0</td></tr>\n",
       "<tr><td>ScS;v=0;</td><td>X;S=0.5;N=30;I_Sc=4;F_Sc=28;</td><td>X;S=0.5;N=29;I_Sc=4;F_Sc=27;</td><td>354600.8684</td><td>1.3654</td><td>0.008034</td><td>247.171</td><td>57.0</td></tr>\n",
       "<tr><td>C3H7CN;v=0;</td><td>X;Conformer=gauche;J=57;Ka=26;K...</td><td>X;Conformer=gauche;J=58;Ka=24;K...</td><td>354600.8815</td><td>23.439</td><td>2.771e-07</td><td>818.59</td><td>120.0</td></tr>\n",
       "<tr><td>C3H7CN;v=0;</td><td>X;Conformer=gauche;J=57;Ka=26;K...</td><td>X;Conformer=gauche;J=58;Ka=24;K...</td><td>354600.8815</td><td>23.439</td><td>2.771e-07</td><td>818.59</td><td>120.0</td></tr>\n",
       "<tr><td>C2H5OCHO;v=0;</td><td>X;J=50;Ka=15;Kc=36;Conformer=ga...</td><td>X;J=49;Ka=15;Kc=35;Conformer=ga...</td><td>354601.1453</td><td>0.0089</td><td>0.0004892</td><td>579.568</td><td>200.0</td></tr>\n",
       "<tr><td>HNO3;v9=2;</td><td>$;v9=2;J=31;Ka=3;Kc=28;F_N=31;</td><td>$;v9=2;J=31;Ka=2;Kc=29;F_N=31;</td><td>354601.4803</td><td>0.0208</td><td>6.906e-05</td><td>1632.016</td><td>63.0</td></tr>\n",
       "<tr><td>HNO3;v9=2;</td><td>$;v9=2;J=31;Ka=3;Kc=28;F_N=32;</td><td>$;v9=2;J=31;Ka=2;Kc=29;F_N=32;</td><td>354601.4803</td><td>0.0208</td><td>6.912e-05</td><td>1632.016</td><td>65.0</td></tr>\n",
       "<tr><td>HNO3;v9=2;</td><td>$;v9=2;J=31;Ka=3;Kc=28;F_N=30;</td><td>$;v9=2;J=31;Ka=2;Kc=29;F_N=30;</td><td>354601.4803</td><td>0.0208</td><td>6.912e-05</td><td>1632.016</td><td>61.0</td></tr>\n",
       "<tr><td>C2H5OCHO;v=0;</td><td>X;J=50;Ka=15;Kc=35;Conformer=ga...</td><td>X;J=49;Ka=15;Kc=34;Conformer=ga...</td><td>354601.6219</td><td>0.0089</td><td>0.0004892</td><td>579.568</td><td>200.0</td></tr>\n",
       "<tr><td>CH3CHO;v15=2;</td><td>X;v15=2;J=42;Ka=17;Kc=26;rovibS...</td><td>X;v15=2;J=43;Ka=15;Kc=29;rovibS...</td><td>354601.6365</td><td>133.95</td><td>9.117e-07</td><td>1755.127</td><td>170.0</td></tr>\n",
       "<tr><td>CH3CHO;v15=2;A</td><td>X;v15=2;J=42;Ka=17;Kc=26;rovibS...</td><td>X;v15=2;J=43;Ka=15;Kc=29;rovibS...</td><td>354601.6365</td><td>133.95</td><td>9.117e-07</td><td>1755.129</td><td>170.0</td></tr>\n",
       "</table><style>table.dataTable {clear: both; width: auto !important; margin: 0 !important;}\n",
       ".dataTables_info, .dataTables_length, .dataTables_filter, .dataTables_paginate{\n",
       "display: inline-block; margin-right: 1em; }\n",
       ".paginate_button { margin-right: 5px; }\n",
       "</style>\n",
       "<script>\n",
       "require.config({paths: {\n",
       "    datatables: 'https://cdn.datatables.net/1.10.9/js/jquery.dataTables.min'\n",
       "}});\n",
       "require([\"datatables\"], function(){\n",
       "    console.log(\"$('#table4506977680-194385').dataTable()\");\n",
       "    $('#table4506977680-194385').dataTable({\n",
       "        \"order\": [],\n",
       "        \"iDisplayLength\": 50,\n",
       "        \"aLengthMenu\": [[10, 25, 50, 100, 500, 1000, -1], [10, 25, 50, 100, 500, 1000, 'All']],\n",
       "        \"pagingType\": \"full_numbers\"\n",
       "    });\n",
       "});\n",
       "</script>\n"
      ],
      "text/plain": [
       "<IPython.core.display.HTML object>"
      ]
     },
     "execution_count": 35,
     "metadata": {},
     "output_type": "execute_result"
    }
   ],
   "source": [
    "a = XCLASSquery(354597, 354602)\n",
    "a.show_in_notebook()"
   ]
  },
  {
   "cell_type": "code",
   "execution_count": null,
   "metadata": {},
   "outputs": [],
   "source": []
  }
 ],
 "metadata": {
  "kernelspec": {
   "display_name": "Python 2",
   "language": "python",
   "name": "python2"
  },
  "language_info": {
   "codemirror_mode": {
    "name": "ipython",
    "version": 2
   },
   "file_extension": ".py",
   "mimetype": "text/x-python",
   "name": "python",
   "nbconvert_exporter": "python",
   "pygments_lexer": "ipython2",
   "version": "2.7.11"
  }
 },
 "nbformat": 4,
 "nbformat_minor": 2
}
