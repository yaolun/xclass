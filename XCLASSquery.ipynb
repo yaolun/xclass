{
 "cells": [
  {
   "cell_type": "code",
   "execution_count": 1,
   "metadata": {},
   "outputs": [],
   "source": [
    "import matplotlib\n",
    "matplotlib.use('Agg')\n",
    "#\n",
    "import sys\n",
    "import os\n",
    "\n",
    "# get environment variable for XCLASS root directory\n",
    "XCLASSRootDir = str(os.environ.get('XCLASSRootDir', ''))\n",
    "XCLASSRootDir = XCLASSRootDir.strip()\n",
    "if (XCLASSRootDir != \"\"):\n",
    "    NewModulesPath = XCLASSRootDir + \"/build_tasks/\"\n",
    "else:\n",
    "    # use the following line to define XCLASS root directory manually\n",
    "    NewModulesPath = \"/home/bettyjo/yaolun/XCLASS-Interface/build_tasks/\"\n",
    "\n",
    "# extend sys.path variable\n",
    "if NewModulesPath not in sys.path:\n",
    "    sys.path.append(NewModulesPath)\n",
    "\n",
    "# Update XCLASS database\n",
    "\n",
    "# import task_UpdateDatabase\n",
    "# DBUpdateNew = 'new'\n",
    "# task_UpdateDatabase.UpdateDatabase(DBUpdateNew)"
   ]
  },
  {
   "cell_type": "code",
   "execution_count": 2,
   "metadata": {},
   "outputs": [],
   "source": [
    "def XCLASSquery(freqlow, freqhigh):\n",
    "    # call GetTransition function\n",
    "    # import ListDatabase package\n",
    "    import task_ListDatabase\n",
    "    from astropy.table import Table\n",
    "    import numpy as np\n",
    "    # call ListDatabase function \n",
    "    FreqMin = freqlow\n",
    "    FreqMax = freqhigh\n",
    "    ElowMin = 0.0\n",
    "    ElowMax = 3000.0\n",
    "    SelectMolecule = []\n",
    "    OutputDevice = 'quiet'\n",
    "    Contents = task_ListDatabase.ListDatabase(FreqMin, FreqMax, ElowMin, ElowMax,\n",
    "                                              SelectMolecule, OutputDevice)\n",
    "    # parse the Contents array\n",
    "    output = Table(np.array([c.split() for c in Contents]),\n",
    "      names=('name', 'upper_state', 'lower_state', 'freq[MHz]', 'error_freq[MHz]', 'Einstein_A', 'lower_energy[K]', 'upper_state_degeneracy'),\n",
    "      dtype=('U34','U34', 'U34', 'f8', 'f8', 'f8', 'f8', 'f8'))\n",
    "    \n",
    "    return output"
   ]
  },
  {
   "cell_type": "code",
   "execution_count": 5,
   "metadata": {},
   "outputs": [
    {
     "data": {
      "text/html": [
       "&lt;Table length=13&gt;\n",
       "<table id=\"table4515634896-285200\" class=\"table-striped table-bordered table-condensed\">\n",
       "<thead><tr><th>idx</th><th>name</th><th>upper_state</th><th>lower_state</th><th>freq[MHz]</th><th>error_freq[MHz]</th><th>Einstein_A</th><th>lower_energy[K]</th><th>upper_state_degeneracy</th></tr></thead>\n",
       "<tr><td>0</td><td>C2H5OCHO;v=0;</td><td>X;J=88;Ka=28;Kc=60;Conformer=ga...</td><td>X;J=88;Ka=27;Kc=61;Conformer=ga...</td><td>354554.0179</td><td>2.1143</td><td>0.000148</td><td>1640.881</td><td>350.0</td></tr>\n",
       "<tr><td>1</td><td>C2H5OCHO;v=0;</td><td>X;J=88;Ka=28;Kc=61;Conformer=ga...</td><td>X;J=88;Ka=27;Kc=62;Conformer=ga...</td><td>354554.0179</td><td>2.1143</td><td>0.000148</td><td>1640.881</td><td>350.0</td></tr>\n",
       "<tr><td>2</td><td>CH3NH2;v=0;</td><td>X;l=1;vibSym=E1;J=8;K=6;</td><td>X;l=1;vibSym=E1;J=7;K=6;</td><td>354554.1722</td><td>0.0153</td><td>1.007e-05</td><td>199.738</td><td>100.0</td></tr>\n",
       "<tr><td>3</td><td>C3F;v=0;</td><td>X;J=39.5;N=39;Ka=0;Kc=39;F_F=40;</td><td>X;J=38.5;N=38;Ka=0;Kc=38;F_F=39;</td><td>354554.6144</td><td>23.184</td><td>0.001601</td><td>323.689</td><td>81.0</td></tr>\n",
       "<tr><td>4</td><td>ScS;v=0;</td><td>X;S=0.5;N=30;I_Sc=4;F_Sc=26;</td><td>X;S=0.5;N=29;I_Sc=4;F_Sc=25;</td><td>354554.9375</td><td>1.3709</td><td>0.008074</td><td>247.123</td><td>53.0</td></tr>\n",
       "<tr><td>5</td><td>CHOCOOH;v=0;</td><td>X;J=45;Ka=43;Kc=2;</td><td>X;J=44;Ka=43;Kc=1;</td><td>354555.1605</td><td>0.0156</td><td>7.648e-05</td><td>995.885</td><td>91.0</td></tr>\n",
       "<tr><td>6</td><td>CHOCOOH;v=0;</td><td>X;J=45;Ka=43;Kc=3;</td><td>X;J=44;Ka=43;Kc=2;</td><td>354555.1605</td><td>0.0156</td><td>7.648e-05</td><td>995.885</td><td>91.0</td></tr>\n",
       "<tr><td>7</td><td>c-C3D;v=0;</td><td>X;J=7.5;N=7;Ka=3;Kc=4;F_D=7.5;</td><td>X;J=5.5;N=6;Ka=3;Kc=3;F_D=6.5;</td><td>354555.27</td><td>0.0948</td><td>1.358e-08</td><td>55.043</td><td>16.0</td></tr>\n",
       "<tr><td>8</td><td>H2CCHC-13-N;v=0;</td><td>X;J=44;Ka=2;Kc=43;</td><td>X;J=44;Ka=1;Kc=44;</td><td>354555.2934</td><td>0.1671</td><td>4.6e-05</td><td>435.946</td><td>270.0</td></tr>\n",
       "<tr><td>9</td><td>s-C2H5CHO;v=0;</td><td>X;J=33;Ka=9;Kc=25;</td><td>X;J=32;Ka=9;Kc=24;</td><td>354555.4329</td><td>0.037</td><td>0.0006921</td><td>313.593</td><td>67.0</td></tr>\n",
       "<tr><td>10</td><td>H2CCCHCN;v=0;</td><td>X;J=19;Ka=6;Kc=14;</td><td>X;J=18;Ka=5;Kc=13;</td><td>354555.461</td><td>10.851</td><td>0.0001824</td><td>70.439</td><td>120.0</td></tr>\n",
       "<tr><td>11</td><td>H2CCCHCN;v=0;</td><td>X;J=19;Ka=6;Kc=13;</td><td>X;J=18;Ka=5;Kc=14;</td><td>354555.5443</td><td>10.851</td><td>0.0001824</td><td>70.439</td><td>120.0</td></tr>\n",
       "<tr><td>12</td><td>C-13-H3C-13-H2CN;v=0;</td><td>X;J=72;Ka=4;Kc=68;</td><td>X;J=72;Ka=3;Kc=69;</td><td>354555.7859</td><td>0.0154</td><td>0.0001529</td><td>1105.596</td><td>140.0</td></tr>\n",
       "</table><style>table.dataTable {clear: both; width: auto !important; margin: 0 !important;}\n",
       ".dataTables_info, .dataTables_length, .dataTables_filter, .dataTables_paginate{\n",
       "display: inline-block; margin-right: 1em; }\n",
       ".paginate_button { margin-right: 5px; }\n",
       "</style>\n",
       "<script>\n",
       "\n",
       "var astropy_sort_num = function(a, b) {\n",
       "    var a_num = parseFloat(a);\n",
       "    var b_num = parseFloat(b);\n",
       "\n",
       "    if (isNaN(a_num) && isNaN(b_num))\n",
       "        return ((a < b) ? -1 : ((a > b) ? 1 : 0));\n",
       "    else if (!isNaN(a_num) && !isNaN(b_num))\n",
       "        return ((a_num < b_num) ? -1 : ((a_num > b_num) ? 1 : 0));\n",
       "    else\n",
       "        return isNaN(a_num) ? -1 : 1;\n",
       "}\n",
       "\n",
       "require.config({paths: {\n",
       "    datatables: 'https://cdn.datatables.net/1.10.12/js/jquery.dataTables.min'\n",
       "}});\n",
       "require([\"datatables\"], function(){\n",
       "    console.log(\"$('#table4515634896-285200').dataTable()\");\n",
       "    \n",
       "jQuery.extend( jQuery.fn.dataTableExt.oSort, {\n",
       "    \"optionalnum-asc\": astropy_sort_num,\n",
       "    \"optionalnum-desc\": function (a,b) { return -astropy_sort_num(a, b); }\n",
       "});\n",
       "\n",
       "    $('#table4515634896-285200').dataTable({\n",
       "        order: [],\n",
       "        pageLength: 50,\n",
       "        lengthMenu: [[10, 25, 50, 100, 500, 1000, -1], [10, 25, 50, 100, 500, 1000, 'All']],\n",
       "        pagingType: \"full_numbers\",\n",
       "        columnDefs: [{targets: [0, 4, 5, 6, 7, 8], type: \"optionalnum\"}]\n",
       "    });\n",
       "});\n",
       "</script>\n"
      ],
      "text/plain": [
       "<IPython.core.display.HTML object>"
      ]
     },
     "execution_count": 5,
     "metadata": {},
     "output_type": "execute_result"
    }
   ],
   "source": [
    "a = XCLASSquery(354554, 354556)\n",
    "a.show_in_notebook()"
   ]
  },
  {
   "cell_type": "code",
   "execution_count": null,
   "metadata": {},
   "outputs": [],
   "source": []
  }
 ],
 "metadata": {
  "kernelspec": {
   "display_name": "Python 2",
   "language": "python",
   "name": "python2"
  },
  "language_info": {
   "codemirror_mode": {
    "name": "ipython",
    "version": 2
   },
   "file_extension": ".py",
   "mimetype": "text/x-python",
   "name": "python",
   "nbconvert_exporter": "python",
   "pygments_lexer": "ipython2",
   "version": "2.7.11"
  }
 },
 "nbformat": 4,
 "nbformat_minor": 2
}
