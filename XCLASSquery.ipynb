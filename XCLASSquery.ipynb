{
 "cells": [
  {
   "cell_type": "code",
   "execution_count": 1,
   "metadata": {},
   "outputs": [],
   "source": [
    "import matplotlib\n",
    "matplotlib.use('Agg')\n",
    "#\n",
    "import sys\n",
    "import os\n",
    "\n",
    "# get environment variable for XCLASS root directory\n",
    "XCLASSRootDir = str(os.environ.get('XCLASSRootDir', ''))\n",
    "XCLASSRootDir = XCLASSRootDir.strip()\n",
    "if (XCLASSRootDir != \"\"):\n",
    "    NewModulesPath = XCLASSRootDir + \"/build_tasks/\"\n",
    "else:\n",
    "    # use the following line to define XCLASS root directory manually\n",
    "    NewModulesPath = \"/home/bettyjo/yaolun/XCLASS-Interface/build_tasks/\"\n",
    "\n",
    "# extend sys.path variable\n",
    "if NewModulesPath not in sys.path:\n",
    "    sys.path.append(NewModulesPath)\n",
    "\n",
    "# Update XCLASS database\n",
    "\n",
    "# import task_UpdateDatabase\n",
    "# DBUpdateNew = 'new'\n",
    "# task_UpdateDatabase.UpdateDatabase(DBUpdateNew)"
   ]
  },
  {
   "cell_type": "code",
   "execution_count": 2,
   "metadata": {},
   "outputs": [],
   "source": [
    "def XCLASSquery(freqlow, freqhigh):\n",
    "    # call GetTransition function\n",
    "    # import ListDatabase package\n",
    "    import task_ListDatabase\n",
    "    from astropy.table import Table\n",
    "    import numpy as np\n",
    "    # call ListDatabase function \n",
    "    FreqMin = freqlow\n",
    "    FreqMax = freqhigh\n",
    "    ElowMin = 0.0\n",
    "    ElowMax = 3000.0\n",
    "    SelectMolecule = []\n",
    "    OutputDevice = 'quiet'\n",
    "    Contents = task_ListDatabase.ListDatabase(FreqMin, FreqMax, ElowMin, ElowMax,\n",
    "                                              SelectMolecule, OutputDevice)\n",
    "    # parse the Contents array\n",
    "    output = Table(np.array([c.split() for c in Contents]),\n",
    "      names=('name', 'upper_state', 'lower_state', 'freq[MHz]', 'error_freq[MHz]', 'Einstein_A', 'lower_energy[K]', 'upper_state_degeneracy'),\n",
    "      dtype=('U34','U34', 'U34', 'f8', 'f8', 'f8', 'f8', 'f8'))\n",
    "    \n",
    "    return output"
   ]
  },
  {
   "cell_type": "code",
   "execution_count": 16,
   "metadata": {},
   "outputs": [
    {
     "data": {
      "text/html": [
       "&lt;Table length=67&gt;\n",
       "<table id=\"table4508511952-855753\" class=\"table table-striped table-bordered table-condensed\">\n",
       "<thead><tr><th>name</th><th>upper_state</th><th>lower_state</th><th>freq[MHz]</th><th>error_freq[MHz]</th><th>Einstein_A</th><th>lower_energy[K]</th><th>upper_state_degeneracy</th></tr></thead>\n",
       "<tr><td>a&apos;GG&apos;g-CH2OHCH2CH2OH;v=0;</td><td>X;vibInv=s;J=78;Ka=22;Kc=56;</td><td>X;vibInv=a;J=77;Ka=24;Kc=53;</td><td>345315.0929</td><td>0.3502</td><td>2.426e-05</td><td>1118.734</td><td>160.0</td></tr>\n",
       "<tr><td>HONO18O;v=0;</td><td>X;J=32;Ka=24;Kc=9;</td><td>X;J=32;Ka=20;Kc=12;</td><td>345315.3684</td><td>0.041</td><td>6.35e-06</td><td>567.246</td><td>65.0</td></tr>\n",
       "<tr><td>HC-13-OOH;v=0;</td><td>X;J=61;Ka=7;Kc=55;</td><td>X;J=62;Ka=4;Kc=58;</td><td>345315.652</td><td>0.1919</td><td>3.013e-07</td><td>2182.512</td><td>120.0</td></tr>\n",
       "<tr><td>c-C6H5OH;v=0;</td><td>X;vibInv=s;J=87;Ka=9;Kc=78;</td><td>X;vibInv=a;J=86;Ka=10;Kc=77;</td><td>345315.664</td><td>0.03</td><td>0.0002711</td><td>773.06</td><td>520.0</td></tr>\n",
       "<tr><td>c-C6H5OH;v=0;</td><td>X;vibInv=s;J=87;Ka=10;Kc=78;</td><td>X;vibInv=a;J=86;Ka=9;Kc=77;</td><td>345315.664</td><td>0.03</td><td>0.0002711</td><td>773.06</td><td>880.0</td></tr>\n",
       "<tr><td>aGg&apos;-(CH2OH)2;v=0;</td><td>X;vibInv=a;J=62;Ka=18;Kc=44;</td><td>X;vibInv=a;J=62;Ka=17;Kc=45;</td><td>345315.9481</td><td>0.1786</td><td>0.0001236</td><td>1102.511</td><td>1100.0</td></tr>\n",
       "<tr><td>a&apos;GG&apos;g-CH2OHCH2CH2OH;v=0;</td><td>X;vibInv=a;J=78;Ka=22;Kc=56;</td><td>X;vibInv=s;J=77;Ka=24;Kc=53;</td><td>345316.124</td><td>0.3503</td><td>2.426e-05</td><td>1118.734</td><td>160.0</td></tr>\n",
       "<tr><td>C3H7CN;v=0;</td><td>X;Conformer=anti;J=78;Ka=5;Kc=74;</td><td>X;Conformer=anti;J=77;Ka=5;Kc=73;</td><td>345316.2635</td><td>0.2073</td><td>0.002663</td><td>663.562</td><td>160.0</td></tr>\n",
       "<tr><td>C3H6O2;v=0;</td><td>X;J=21;Ka=14;Kc=8;rovibSym=E;</td><td>X;J=22;Ka=11;Kc=12;rovibSym=E;</td><td>345316.3149</td><td>0.4515</td><td>3.083e-08</td><td>121.346</td><td>43.0</td></tr>\n",
       "<tr><td>CH3Cl-35;v=0;</td><td>X;J=13;K=5;F=13.5;parity=-;</td><td>X;J=12;K=5;F=13.5;parity=-;</td><td>345316.3401</td><td>0.007</td><td>6.041e-06</td><td>286.693</td><td>56.0</td></tr>\n",
       "<tr><td>NH2CH2CH2OH;v27=2;</td><td>X;v25=0;v26=0;v27=2;J=17;Ka=5;K...</td><td>X;v25=0;v26=0;v27=2;J=16;Ka=2;K...</td><td>345317.332</td><td>0.0159</td><td>6.448e-07</td><td>305.668</td><td>35.0</td></tr>\n",
       "<tr><td>HOONO2;v12=1;</td><td>X;v12=1;vibInv=a;J=40;Ka=8;Kc=32;</td><td>X;v12=1;vibInv=s;J=40;Ka=7;Kc=34;</td><td>345317.4727</td><td>6.2938</td><td>1.239e-05</td><td>548.245</td><td>81.0</td></tr>\n",
       "<tr><td>CH3CH(NH2)CN;v=0;</td><td>X;J=69;Ka=23;Kc=46;</td><td>X;J=69;Ka=21;Kc=49;</td><td>345317.5129</td><td>0.0337</td><td>2.602e-05</td><td>926.483</td><td>140.0</td></tr>\n",
       "<tr><td>c-C6H5OCH3;v=0;</td><td>X;J=122;Ka=36;Kc=86;</td><td>X;J=121;Ka=36;Kc=85;</td><td>345317.5815</td><td>0.0173</td><td>0.0001046</td><td>1219.531</td><td>240.0</td></tr>\n",
       "<tr><td>c-C6H5OCH3;v=0;</td><td>X;J=122;Ka=36;Kc=87;</td><td>X;J=121;Ka=36;Kc=86;</td><td>345317.5815</td><td>0.0173</td><td>0.0001046</td><td>1219.531</td><td>240.0</td></tr>\n",
       "<tr><td>HO2;v=0;</td><td>X;S=0.5;J=4.5;N=5;Ka=1;Kc=4;F_H=5;</td><td>X;S=0.5;J=4.5;N=4;Ka=1;Kc=3;F_H=4;</td><td>345317.778</td><td>0.1483</td><td>1.678e-07</td><td>59.085</td><td>11.0</td></tr>\n",
       "<tr><td>CH3OH;v=0;E</td><td>rovibSym=E;X;v12=0;J=27;Ka=9;Kc...</td><td>rovibSym=E;X;v12=0;J=28;Ka=8;Kc...</td><td>345318.256</td><td>0.2</td><td>5.971e-05</td><td>1253.703</td><td>220.0</td></tr>\n",
       "<tr><td>CH3OH;v=0;</td><td>rovibSym=E;X;v12=0;J=27;Ka=9;Kc...</td><td>rovibSym=E;X;v12=0;J=28;Ka=8;Kc...</td><td>345318.256</td><td>0.2</td><td>5.971e-05</td><td>1261.601</td><td>220.0</td></tr>\n",
       "<tr><td>CH3OH;v=0;#1</td><td>X;v12=0;J=27;K=9;</td><td>X;v12=0;J=28;K=8;</td><td>345318.303</td><td>0.032</td><td>5.971e-05</td><td>1261.602</td><td>55.0</td></tr>\n",
       "<tr><td>H2NCH2COOHII;v=0;hyp1</td><td>X;v24=0;J=32;Ka=11;Kc=22;F_N=32;</td><td>X;v24=0;J=32;Ka=8;Kc=25;F_N=32;</td><td>345318.6103</td><td>10.205</td><td>1.384e-06</td><td>1211.075</td><td>65.0</td></tr>\n",
       "<tr><td>HCOCH2OH;v18=1;</td><td>X;v12=0;v17=0;v18=1;J=23;Ka=10;...</td><td>X;v12=0;v17=0;v18=1;J=24;Ka=7;K...</td><td>345318.6127</td><td>0.0234</td><td>5.9e-07</td><td>477.945</td><td>47.0</td></tr>\n",
       "<tr><td>H2NCH2COOHII;v=0;</td><td>v24=0;J=32;Ka=11;Kc=22;</td><td>v24=0;J=32;Ka=8;Kc=25;</td><td>345318.6622</td><td>10.205</td><td>1.387e-06</td><td>1211.075</td><td>200.0</td></tr>\n",
       "<tr><td>H2NCH2COOHII;v=0;hyp1</td><td>X;v24=0;J=32;Ka=11;Kc=22;F_N=33;</td><td>X;v24=0;J=32;Ka=8;Kc=25;F_N=33;</td><td>345318.6869</td><td>10.205</td><td>1.385e-06</td><td>1211.075</td><td>67.0</td></tr>\n",
       "<tr><td>H2NCH2COOHII;v=0;hyp1</td><td>X;v24=0;J=32;Ka=11;Kc=22;F_N=31;</td><td>X;v24=0;J=32;Ka=8;Kc=25;F_N=31;</td><td>345318.6893</td><td>10.205</td><td>1.386e-06</td><td>1211.075</td><td>63.0</td></tr>\n",
       "<tr><td>OBr-81-O;v=0;</td><td>X;S=0.5;v2=0;J=15.5;N=15;Ka=9;K...</td><td>X;S=0.5;v2=0;J=15.5;N=15;Ka=8;K...</td><td>345319.2072</td><td>0.0444</td><td>3.754e-06</td><td>146.215</td><td>35.0</td></tr>\n",
       "<tr><td>c-C4H4O2;v=0;</td><td>X;J=104;Ka=20;Kc=85;</td><td>X;J=104;Ka=19;Kc=86;</td><td>345319.3334</td><td>0.035</td><td>0.000995</td><td>1509.317</td><td>210.0</td></tr>\n",
       "<tr><td>aGg&apos;-(CH2OH)2;v=0;</td><td>X;vibInv=a;J=62;Ka=18;Kc=45;</td><td>X;vibInv=a;J=62;Ka=17;Kc=46;</td><td>345319.3534</td><td>0.1786</td><td>0.0001237</td><td>1102.511</td><td>880.0</td></tr>\n",
       "<tr><td>c-C6H5OH;v=0;</td><td>X;vibInv=s;J=77;Ka=52;Kc=25;</td><td>X;vibInv=s;J=76;Ka=52;Kc=24;</td><td>345319.4512</td><td>0.0062</td><td>2.205e-06</td><td>1070.526</td><td>780.0</td></tr>\n",
       "<tr><td>c-C6H5OH;v=0;</td><td>X;vibInv=s;J=77;Ka=52;Kc=26;</td><td>X;vibInv=s;J=76;Ka=52;Kc=25;</td><td>345319.4512</td><td>0.0062</td><td>2.205e-06</td><td>1070.526</td><td>780.0</td></tr>\n",
       "<tr><td>c-C6H5OH;v=0;</td><td>X;vibInv=a;J=77;Ka=52;Kc=25;</td><td>X;vibInv=a;J=76;Ka=52;Kc=24;</td><td>345319.4854</td><td>0.0063</td><td>2.205e-06</td><td>1070.526</td><td>460.0</td></tr>\n",
       "<tr><td>c-C6H5OH;v=0;</td><td>X;vibInv=a;J=77;Ka=52;Kc=26;</td><td>X;vibInv=a;J=76;Ka=52;Kc=25;</td><td>345319.4854</td><td>0.0063</td><td>2.205e-06</td><td>1070.526</td><td>460.0</td></tr>\n",
       "<tr><td>Se-80-O2;v=0;</td><td>X;v1=0;v2=0;v3=0;J=59;Ka=8;Kc=52;</td><td>X;v1=0;v2=0;v3=0;J=60;Ka=5;Kc=55;</td><td>345320.2071</td><td>0.6153</td><td>1.026e-05</td><td>1361.226</td><td>120.0</td></tr>\n",
       "<tr><td>c-C6H5OCH3;v=0;</td><td>X;J=130;Ka=14;Kc=117;</td><td>X;J=129;Ka=14;Kc=116;</td><td>345320.7449</td><td>0.0113</td><td>0.0001115</td><td>1147.794</td><td>260.0</td></tr>\n",
       "<tr><td>c-C6H5OCH3;v=0;</td><td>X;J=130;Ka=13;Kc=117;</td><td>X;J=129;Ka=14;Kc=116;</td><td>345320.7449</td><td>0.0113</td><td>0.0001708</td><td>1147.794</td><td>260.0</td></tr>\n",
       "<tr><td>c-C6H5OCH3;v=0;</td><td>X;J=130;Ka=13;Kc=117;</td><td>X;J=129;Ka=13;Kc=116;</td><td>345320.7449</td><td>0.0113</td><td>0.0001115</td><td>1147.794</td><td>260.0</td></tr>\n",
       "<tr><td>c-C6H5OCH3;v=0;</td><td>X;J=130;Ka=14;Kc=117;</td><td>X;J=129;Ka=13;Kc=116;</td><td>345320.745</td><td>0.0113</td><td>0.0001708</td><td>1147.794</td><td>260.0</td></tr>\n",
       "<tr><td>H2NCO2CH3;v=0;</td><td>X;v24=0;vibSym=E;J=50;Ka=4;Kc=4...</td><td>X;v24=0;vibSym=E;J=49;Ka=5;Kc=4...</td><td>345320.7561</td><td>0.037</td><td>0.0009324</td><td>434.329</td><td>200.0</td></tr>\n",
       "<tr><td>H2NCO2CH3;v=0;</td><td>X;v24=0;vibSym=E;J=50;Ka=4;Kc=4...</td><td>X;v24=0;vibSym=E;J=49;Ka=5;Kc=4...</td><td>345320.7797</td><td>0.037</td><td>0.0009325</td><td>434.329</td><td>200.0</td></tr>\n",
       "<tr><td>HCOCH2OH;v=0;</td><td>X;v12=0;v17=0;v18=0;J=36;Ka=8;K...</td><td>X;v12=0;v17=0;v18=0;J=37;Ka=5;K...</td><td>345320.8717</td><td>0.0361</td><td>5.1e-07</td><td>401.043</td><td>73.0</td></tr>\n",
       "<tr><td>GA-n-C4H9CN;v=0;</td><td>X;J=103;Ka=17;Kc=86;</td><td>X;J=102;Ka=17;Kc=85;</td><td>345321.2681</td><td>0.0106</td><td>0.001227</td><td>992.33</td><td>410.0</td></tr>\n",
       "<tr><td>H2SO4;v=0;</td><td>X;J=34;Ka=21;Kc=14;</td><td>X;J=33;Ka=20;Kc=14;</td><td>345321.5053</td><td>0.0117</td><td>0.001383</td><td>271.264</td><td>69.0</td></tr>\n",
       "<tr><td>GA-n-C4H9CN;v=0;</td><td>X;J=103;Ka=46;Kc=58;</td><td>X;J=102;Ka=46;Kc=57;</td><td>345321.68</td><td>0.0384</td><td>0.00101</td><td>1509.002</td><td>410.0</td></tr>\n",
       "<tr><td>GA-n-C4H9CN;v=0;</td><td>X;J=103;Ka=46;Kc=57;</td><td>X;J=102;Ka=46;Kc=56;</td><td>345321.68</td><td>0.0384</td><td>0.00101</td><td>1509.002</td><td>410.0</td></tr>\n",
       "<tr><td>H2NCO2CH3;v24=1;</td><td>X;v24=1;vibSym=E;J=45;Ka=9;Kc=3...</td><td>X;v24=1;vibSym=E;J=44;Ka=9;Kc=3...</td><td>345322.0781</td><td>0.0829</td><td>2.794e-05</td><td>574.011</td><td>180.0</td></tr>\n",
       "<tr><td>H2NCO2CH3;v24=1;</td><td>X;v24=1;vibSym=E;J=45;Ka=9;Kc=3...</td><td>X;v24=1;vibSym=E;J=44;Ka=9;Kc=3...</td><td>345322.0797</td><td>0.0829</td><td>2.795e-05</td><td>574.011</td><td>190.0</td></tr>\n",
       "<tr><td>H2NCO2CH3;v24=1;</td><td>X;v24=1;vibSym=E;J=45;Ka=9;Kc=3...</td><td>X;v24=1;vibSym=E;J=44;Ka=9;Kc=3...</td><td>345322.1619</td><td>0.0829</td><td>2.793e-05</td><td>574.012</td><td>180.0</td></tr>\n",
       "<tr><td>Cl-35-ONO2;v=0;</td><td>X;J=21;Ka=13;Kc=9;F=19.5;</td><td>X;J=20;Ka=12;Kc=8;F=18.5;</td><td>345322.299</td><td>0.0216</td><td>1.137e-05</td><td>117.053</td><td>40.0</td></tr>\n",
       "<tr><td>Cl-35-ONO2;v=0;</td><td>X;J=21;Ka=13;Kc=8;F=19.5;</td><td>X;J=20;Ka=12;Kc=9;F=18.5;</td><td>345322.299</td><td>0.0216</td><td>1.137e-05</td><td>117.053</td><td>40.0</td></tr>\n",
       "<tr><td>Cl-35-ONO2;v=0;</td><td>X;J=21;Ka=13;Kc=9;F=22.5;</td><td>X;J=20;Ka=12;Kc=8;F=21.5;</td><td>345322.3907</td><td>0.0216</td><td>1.142e-05</td><td>117.053</td><td>46.0</td></tr>\n",
       "<tr><td>Cl-35-ONO2;v=0;</td><td>X;J=21;Ka=13;Kc=8;F=22.5;</td><td>X;J=20;Ka=12;Kc=9;F=21.5;</td><td>345322.3907</td><td>0.0216</td><td>1.142e-05</td><td>117.053</td><td>46.0</td></tr>\n",
       "<tr><td>HOF;v=0;</td><td>X;J=16;Ka=0;Kc=16;</td><td>X;J=15;Ka=1;Kc=15;</td><td>345322.4898</td><td>0.3953</td><td>0.0005608</td><td>323.958</td><td>33.0</td></tr>\n",
       "<tr><td>C3O3H6;v29=1;</td><td>X;v29=1;J=56;Ka=8;Kc=48;</td><td>X;v29=1;J=55;Ka=7;Kc=49;</td><td>345322.5134</td><td>0.0919</td><td>9.895e-05</td><td>512.649</td><td>110.0</td></tr>\n",
       "<tr><td>c-C6H5OH;v=0;</td><td>X;vibInv=a;J=123;Ka=54;Kc=70;</td><td>X;vibInv=s;J=123;Ka=53;Kc=71;</td><td>345323.358</td><td>0.0374</td><td>0.0001854</td><td>2107.936</td><td>740.0</td></tr>\n",
       "<tr><td>c-C6H5OH;v=0;</td><td>X;vibInv=a;J=123;Ka=54;Kc=69;</td><td>X;vibInv=s;J=123;Ka=53;Kc=70;</td><td>345323.358</td><td>0.0374</td><td>0.0001854</td><td>2107.936</td><td>740.0</td></tr>\n",
       "<tr><td>CH3CH(NH2)CN;v=0;</td><td>X;J=34;Ka=12;Kc=22;</td><td>X;J=33;Ka=11;Kc=23;</td><td>345323.5078</td><td>0.0046</td><td>3.043e-06</td><td>218.979</td><td>69.0</td></tr>\n",
       "<tr><td>Cl-35-ONO2;v=0;</td><td>X;J=21;Ka=13;Kc=9;F=20.5;</td><td>X;J=20;Ka=12;Kc=8;F=19.5;</td><td>345323.7245</td><td>0.0216</td><td>1.136e-05</td><td>117.053</td><td>42.0</td></tr>\n",
       "<tr><td>Cl-35-ONO2;v=0;</td><td>X;J=21;Ka=13;Kc=8;F=20.5;</td><td>X;J=20;Ka=12;Kc=9;F=19.5;</td><td>345323.7245</td><td>0.0216</td><td>1.136e-05</td><td>117.053</td><td>42.0</td></tr>\n",
       "<tr><td>Cl-35-ONO2;v=0;</td><td>X;J=21;Ka=13;Kc=9;F=21.5;</td><td>X;J=20;Ka=12;Kc=8;F=20.5;</td><td>345323.8169</td><td>0.0216</td><td>1.138e-05</td><td>117.053</td><td>44.0</td></tr>\n",
       "<tr><td>Cl-35-ONO2;v=0;</td><td>X;J=21;Ka=13;Kc=8;F=21.5;</td><td>X;J=20;Ka=12;Kc=9;F=20.5;</td><td>345323.8169</td><td>0.0216</td><td>1.138e-05</td><td>117.053</td><td>44.0</td></tr>\n",
       "<tr><td>a&apos;GG&apos;g-CH2OHCH2CH2OH;v=0;</td><td>X;vibInv=a;J=49;Ka=9;Kc=41;</td><td>X;vibInv=a;J=49;Ka=6;Kc=43;</td><td>345323.8728</td><td>0.0095</td><td>2.559e-06</td><td>398.14</td><td>99.0</td></tr>\n",
       "<tr><td>a&apos;GG&apos;g-CH2OHCH2CH2OH;v=0;</td><td>X;vibInv=a;J=49;Ka=8;Kc=41;</td><td>X;vibInv=a;J=49;Ka=7;Kc=43;</td><td>345323.8872</td><td>0.0095</td><td>2.563e-06</td><td>398.14</td><td>99.0</td></tr>\n",
       "<tr><td>HO2;v=0;</td><td>X;S=0.5;J=4.5;N=5;Ka=1;Kc=4;F_H=4;</td><td>X;S=0.5;J=4.5;N=4;Ka=1;Kc=3;F_H=5;</td><td>345324.0393</td><td>0.1484</td><td>2.015e-07</td><td>59.084</td><td>9.0</td></tr>\n",
       "<tr><td>HCOCH2OH;v12=1;</td><td>X;v12=1;v17=0;v18=0;J=15;Ka=5;K...</td><td>X;v12=1;v17=0;v18=0;J=14;Ka=3;K...</td><td>345324.0785</td><td>0.0204</td><td>2.143e-08</td><td>439.792</td><td>31.0</td></tr>\n",
       "<tr><td>s-C2H5CHO;v=0;</td><td>X;J=61;Ka=17;Kc=45;</td><td>X;J=61;Ka=16;Kc=46;</td><td>345324.0937</td><td>1.3829</td><td>0.0004753</td><td>1103.57</td><td>120.0</td></tr>\n",
       "<tr><td>a&apos;GG&apos;g-CH2OHCH2CH2OH;v=0;</td><td>X;vibInv=s;J=49;Ka=9;Kc=41;</td><td>X;vibInv=s;J=49;Ka=6;Kc=43;</td><td>345324.1105</td><td>0.0095</td><td>2.564e-06</td><td>398.14</td><td>99.0</td></tr>\n",
       "<tr><td>a&apos;GG&apos;g-CH2OHCH2CH2OH;v=0;</td><td>X;vibInv=s;J=49;Ka=8;Kc=41;</td><td>X;vibInv=s;J=49;Ka=7;Kc=43;</td><td>345324.1249</td><td>0.0095</td><td>2.56e-06</td><td>398.14</td><td>99.0</td></tr>\n",
       "<tr><td>C3H6O2;v=0;</td><td>X;J=34;Ka=26;Kc=9;rovibSym=E;</td><td>X;J=34;Ka=25;Kc=10;rovibSym=E;</td><td>345324.7197</td><td>4.7171</td><td>0.0003783</td><td>394.03</td><td>69.0</td></tr>\n",
       "</table><style>table.dataTable {clear: both; width: auto !important; margin: 0 !important;}\n",
       ".dataTables_info, .dataTables_length, .dataTables_filter, .dataTables_paginate{\n",
       "display: inline-block; margin-right: 1em; }\n",
       ".paginate_button { margin-right: 5px; }\n",
       "</style>\n",
       "<script>\n",
       "require.config({paths: {\n",
       "    datatables: 'https://cdn.datatables.net/1.10.9/js/jquery.dataTables.min'\n",
       "}});\n",
       "require([\"datatables\"], function(){\n",
       "    console.log(\"$('#table4508511952-855753').dataTable()\");\n",
       "    $('#table4508511952-855753').dataTable({\n",
       "        \"order\": [],\n",
       "        \"iDisplayLength\": 50,\n",
       "        \"aLengthMenu\": [[10, 25, 50, 100, 500, 1000, -1], [10, 25, 50, 100, 500, 1000, 'All']],\n",
       "        \"pagingType\": \"full_numbers\"\n",
       "    });\n",
       "});\n",
       "</script>\n"
      ],
      "text/plain": [
       "<IPython.core.display.HTML object>"
      ]
     },
     "execution_count": 16,
     "metadata": {},
     "output_type": "execute_result"
    }
   ],
   "source": [
    "a = XCLASSquery(345315, 345325)\n",
    "a.show_in_notebook()"
   ]
  },
  {
   "cell_type": "code",
   "execution_count": 3,
   "metadata": {},
   "outputs": [
    {
     "name": "stdout",
     "output_type": "stream",
     "text": [
      "['', '/Users/yaolun/anaconda/lib/python2.7/site-packages/stsci.distutils-0.3.8.dev-py2.7.egg', '/Users/yaolun/anaconda/lib/python2.7/site-packages/aplpy-0.0.dev1030-py2.7.egg', '/Users/yaolun/anaconda', '/Users/yaolun/programs/xclass', '/Users/yaolun/anaconda/lib/python27.zip', '/Users/yaolun/anaconda/lib/python2.7', '/Users/yaolun/anaconda/lib/python2.7/plat-darwin', '/Users/yaolun/anaconda/lib/python2.7/plat-mac', '/Users/yaolun/anaconda/lib/python2.7/plat-mac/lib-scriptpackages', '/Users/yaolun/anaconda/lib/python2.7/lib-tk', '/Users/yaolun/anaconda/lib/python2.7/lib-old', '/Users/yaolun/anaconda/lib/python2.7/lib-dynload', '/Users/yaolun/.local/lib/python2.7/site-packages', '/Users/yaolun/anaconda/lib/python2.7/site-packages/Sphinx-1.3.5-py2.7.egg', '/Users/yaolun/anaconda/lib/python2.7/site-packages/setuptools-20.3-py2.7.egg', '/Users/yaolun/anaconda/lib/python2.7/site-packages', '/Users/yaolun/anaconda/lib/python2.7/site-packages/PIL', '/Users/yaolun/anaconda/lib/python2.7/site-packages/PyObjC', '/Users/yaolun/anaconda/lib/python2.7/site-packages/aeosa', '/Users/yaolun/anaconda/lib/python2.7/site-packages/IPython/extensions', '/Users/yaolun/.ipython', '/Volumes/SD-Mac/XCLASS-Interface//build_tasks/']\n"
     ]
    }
   ],
   "source": [
    "import sys\n",
    "print(sys.path)"
   ]
  },
  {
   "cell_type": "code",
   "execution_count": 4,
   "metadata": {},
   "outputs": [],
   "source": [
    "UpadatePackagePath = '/Volumes/SD-Mac/XCLASS-Interface' + \"/programs/Update_VAMDC/\"\n",
    "modules_path = [UpadatePackagePath]\n",
    "for NewModulesPath in modules_path:                                                 ## loop over all new module paths\n",
    "    already_included_flag = \"false\"\n",
    "    for entries in sys.path:\n",
    "        if (entries == NewModulesPath):\n",
    "            already_included_flag = \"true\"\n",
    "            break\n",
    "    if (already_included_flag == \"false\"):\n",
    "        sys.path.append(NewModulesPath)"
   ]
  },
  {
   "cell_type": "code",
   "execution_count": 5,
   "metadata": {},
   "outputs": [
    {
     "name": "stdout",
     "output_type": "stream",
     "text": [
      "Register Class FitParameters in specmodel\n",
      "Register Class Parameter in specmodel\n",
      "Register Class Argument in specmodel\n",
      "Register Class State in specmodel\n",
      "Register Class AtomState in specmodel\n",
      "Register Class AtomQN in specmodel\n",
      "Register Class QuantumNumbers in specmodel\n",
      "Register Class Partitionfunctions in specmodel\n",
      "Register Class Atom in specmodel\n",
      "Register Class Molecule in specmodel\n",
      "Register Class RadiativeTransition in specmodel\n",
      "Register Class CollisionalTransition in specmodel\n",
      "Register Class Source in specmodel\n",
      "Register DictClass Atoms in specmodel\n",
      "Register DictClass Molecules in specmodel\n",
      "Register DictClass RadiativeTransitions in specmodel\n",
      "Register DictClass CollisionalTransitions in specmodel\n",
      "Register DictClass Sources in specmodel\n"
     ]
    }
   ],
   "source": [
    "import database"
   ]
  },
  {
   "cell_type": "code",
   "execution_count": null,
   "metadata": {},
   "outputs": [],
   "source": []
  }
 ],
 "metadata": {
  "kernelspec": {
   "display_name": "Python 2",
   "language": "python",
   "name": "python2"
  },
  "language_info": {
   "codemirror_mode": {
    "name": "ipython",
    "version": 2
   },
   "file_extension": ".py",
   "mimetype": "text/x-python",
   "name": "python",
   "nbconvert_exporter": "python",
   "pygments_lexer": "ipython2",
   "version": "2.7.11"
  }
 },
 "nbformat": 4,
 "nbformat_minor": 2
}
