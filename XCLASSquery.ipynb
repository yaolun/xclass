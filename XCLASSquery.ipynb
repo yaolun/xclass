{
 "cells": [
  {
   "cell_type": "code",
   "execution_count": 1,
   "metadata": {},
   "outputs": [],
   "source": [
    "import matplotlib\n",
    "matplotlib.use('Agg')\n",
    "#\n",
    "import sys\n",
    "import os\n",
    "\n",
    "# get environment variable for XCLASS root directory\n",
    "XCLASSRootDir = str(os.environ.get('XCLASSRootDir', ''))\n",
    "XCLASSRootDir = XCLASSRootDir.strip()\n",
    "if (XCLASSRootDir != \"\"):\n",
    "    NewModulesPath = XCLASSRootDir + \"/build_tasks/\"\n",
    "else:\n",
    "    # use the following line to define XCLASS root directory manually\n",
    "    NewModulesPath = \"/home/bettyjo/yaolun/XCLASS-Interface/build_tasks/\"\n",
    "\n",
    "# extend sys.path variable\n",
    "if NewModulesPath not in sys.path:\n",
    "    sys.path.append(NewModulesPath)\n",
    "\n",
    "# Update XCLASS database\n",
    "\n",
    "# import task_UpdateDatabase\n",
    "# DBUpdateNew = 'new'\n",
    "# task_UpdateDatabase.UpdateDatabase(DBUpdateNew)"
   ]
  },
  {
   "cell_type": "code",
   "execution_count": 16,
   "metadata": {},
   "outputs": [],
   "source": [
    "def XCLASSquery(freqlow, freqhigh):\n",
    "    # call GetTransition function\n",
    "    # import ListDatabase package\n",
    "    import task_ListDatabase\n",
    "    from astropy.table import Table\n",
    "    import numpy as np\n",
    "    # call ListDatabase function \n",
    "    FreqMin = freqlow\n",
    "    FreqMax = freqhigh\n",
    "    ElowMin = 0.0\n",
    "    ElowMax = 3000.0\n",
    "    SelectMolecule = ['CH3OCHO;v=0;']\n",
    "    OutputDevice = 'quiet'\n",
    "    Contents = task_ListDatabase.ListDatabase(FreqMin, FreqMax, ElowMin, ElowMax,\n",
    "                                              SelectMolecule, OutputDevice)\n",
    "    # parse the Contents array\n",
    "    output = Table(np.array([c.split() for c in Contents]),\n",
    "      names=('name', 'upper_state', 'lower_state', 'freq[MHz]', 'error_freq[MHz]', 'Einstein_A', 'lower_energy[K]', 'upper_state_degeneracy'),\n",
    "      dtype=('U34','U34', 'U34', 'f8', 'f8', 'f8', 'f8', 'f8'))\n",
    "    \n",
    "    return output"
   ]
  },
  {
   "cell_type": "code",
   "execution_count": 17,
   "metadata": {},
   "outputs": [
    {
     "data": {
      "text/html": [
       "&lt;Table length=8&gt;\n",
       "<table id=\"table4510158800-504942\" class=\"table table-striped table-bordered table-condensed\">\n",
       "<thead><tr><th>name</th><th>upper_state</th><th>lower_state</th><th>freq[MHz]</th><th>error_freq[MHz]</th><th>Einstein_A</th><th>lower_energy[K]</th><th>upper_state_degeneracy</th></tr></thead>\n",
       "<tr><td>CH3OCHO;v=0;</td><td>X;v18=0;J=16;Ka=13;Kc=3;rovibSy...</td><td>X;v18=0;J=16;Ka=12;Kc=4;rovibSy...</td><td>345451.1027</td><td>0.0023</td><td>2.513e-05</td><td>175.76</td><td>66.0</td></tr>\n",
       "<tr><td>CH3OCHO;v=0;</td><td>X;v18=0;J=28;Ka=13;Kc=15;rovibS...</td><td>X;v18=0;J=27;Ka=13;Kc=14;rovibS...</td><td>345461.011</td><td>0.1</td><td>0.000494</td><td>335.275</td><td>110.0</td></tr>\n",
       "<tr><td>CH3OCHO;v=0;</td><td>X;v18=0;J=16;Ka=13;Kc=4;rovibSy...</td><td>X;v18=0;J=16;Ka=12;Kc=5;rovibSy...</td><td>345465.3445</td><td>0.0023</td><td>2.513e-05</td><td>175.743</td><td>66.0</td></tr>\n",
       "<tr><td>CH3OCHO;v=0;</td><td>X;v18=0;J=28;Ka=13;Kc=16;rovibS...</td><td>X;v18=0;J=27;Ka=13;Kc=15;rovibS...</td><td>345466.962</td><td>0.1</td><td>0.000494</td><td>335.276</td><td>110.0</td></tr>\n",
       "<tr><td>CH3OCHO;v=0;</td><td>X;v18=0;J=28;Ka=13;Kc=15;rovibS...</td><td>X;v18=0;J=27;Ka=13;Kc=14;rovibS...</td><td>345466.962</td><td>0.1</td><td>0.000494</td><td>335.276</td><td>110.0</td></tr>\n",
       "<tr><td>CH3OCHO;v=0;</td><td>X;v18=0;J=28;Ka=13;Kc=16;rovibS...</td><td>X;v18=0;J=27;Ka=13;Kc=15;rovibS...</td><td>345486.602</td><td>0.1</td><td>0.0004941</td><td>335.271</td><td>110.0</td></tr>\n",
       "<tr><td>CH3OCHO;v=0;</td><td>X;v18=0;J=16;Ka=13;Kc=4;rovibSy...</td><td>X;v18=0;J=16;Ka=12;Kc=5;rovibSy...</td><td>345509.0211</td><td>0.0018</td><td>2.513e-05</td><td>175.757</td><td>66.0</td></tr>\n",
       "<tr><td>CH3OCHO;v=0;</td><td>X;v18=0;J=16;Ka=13;Kc=3;rovibSy...</td><td>X;v18=0;J=16;Ka=12;Kc=4;rovibSy...</td><td>345509.0211</td><td>0.0018</td><td>2.513e-05</td><td>175.757</td><td>66.0</td></tr>\n",
       "</table><style>table.dataTable {clear: both; width: auto !important; margin: 0 !important;}\n",
       ".dataTables_info, .dataTables_length, .dataTables_filter, .dataTables_paginate{\n",
       "display: inline-block; margin-right: 1em; }\n",
       ".paginate_button { margin-right: 5px; }\n",
       "</style>\n",
       "<script>\n",
       "require.config({paths: {\n",
       "    datatables: 'https://cdn.datatables.net/1.10.9/js/jquery.dataTables.min'\n",
       "}});\n",
       "require([\"datatables\"], function(){\n",
       "    console.log(\"$('#table4510158800-504942').dataTable()\");\n",
       "    $('#table4510158800-504942').dataTable({\n",
       "        \"order\": [],\n",
       "        \"iDisplayLength\": 50,\n",
       "        \"aLengthMenu\": [[10, 25, 50, 100, 500, 1000, -1], [10, 25, 50, 100, 500, 1000, 'All']],\n",
       "        \"pagingType\": \"full_numbers\"\n",
       "    });\n",
       "});\n",
       "</script>\n"
      ],
      "text/plain": [
       "<IPython.core.display.HTML object>"
      ]
     },
     "execution_count": 17,
     "metadata": {},
     "output_type": "execute_result"
    }
   ],
   "source": [
    "a = XCLASSquery(345450, 345520)\n",
    "a.show_in_notebook()"
   ]
  },
  {
   "cell_type": "code",
   "execution_count": null,
   "metadata": {},
   "outputs": [],
   "source": []
  }
 ],
 "metadata": {
  "kernelspec": {
   "display_name": "Python 2",
   "language": "python",
   "name": "python2"
  },
  "language_info": {
   "codemirror_mode": {
    "name": "ipython",
    "version": 2
   },
   "file_extension": ".py",
   "mimetype": "text/x-python",
   "name": "python",
   "nbconvert_exporter": "python",
   "pygments_lexer": "ipython2",
   "version": "2.7.11"
  }
 },
 "nbformat": 4,
 "nbformat_minor": 2
}
