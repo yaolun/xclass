{
 "cells": [
  {
   "cell_type": "code",
   "execution_count": 1,
   "metadata": {},
   "outputs": [],
   "source": [
    "import matplotlib\n",
    "matplotlib.use('Agg')\n",
    "#\n",
    "import sys\n",
    "import os\n",
    "\n",
    "# get environment variable for XCLASS root directory\n",
    "XCLASSRootDir = str(os.environ.get('XCLASSRootDir', ''))\n",
    "XCLASSRootDir = XCLASSRootDir.strip()\n",
    "if (XCLASSRootDir != \"\"):\n",
    "    NewModulesPath = XCLASSRootDir + \"/build_tasks/\"\n",
    "else:\n",
    "    # use the following line to define XCLASS root directory manually\n",
    "    NewModulesPath = \"/home/bettyjo/yaolun/XCLASS-Interface/build_tasks/\"\n",
    "\n",
    "# extend sys.path variable\n",
    "if NewModulesPath not in sys.path:\n",
    "    sys.path.append(NewModulesPath)\n",
    "\n",
    "# # import MAGIX package\n",
    "# import task_MAGIX\n",
    "\n",
    "# # define parameters for MAGIX\n",
    "# # TODO: need to fix the paths, after I figure out what are they.\n",
    "# MAGIXExpXML = \"Reflectance_Data.xml\"\n",
    "# MAGIXInstanceXML = \"parameters.xml\"\n",
    "# MAGIXFitXML = \"algorithm-settings.xml\"\n",
    "# MAGIXRegXML = \"Generalized_Drude-Lorentz__sym__freq-damping+Rp.xml\"\n",
    "# MAGIXOption = \"\"\n",
    "\n",
    "# # start MAGIX function\n",
    "# task_MAGIX.MAGIX(MAGIXExpXML, MAGIXInstanceXML, MAGIXFitXML, MAGIXRegXML, MAGIXOption)"
   ]
  },
  {
   "cell_type": "markdown",
   "metadata": {},
   "source": [
    "#### Update XCLASS database"
   ]
  },
  {
   "cell_type": "code",
   "execution_count": 5,
   "metadata": {},
   "outputs": [
    {
     "name": "stdout",
     "output_type": "stream",
     "text": [
      "\n",
      "Rename the current sqlite3 file .. done!\n",
      "Downloading sqlite3 database file for myXCLASS from CDMS Server .. done!                        \n",
      "Unzip the downloaded database file .. done!\n"
     ]
    }
   ],
   "source": [
    "import task_UpdateDatabase\n",
    "DBUpdateNew = 'new'\n",
    "task_UpdateDatabase.UpdateDatabase(DBUpdateNew)"
   ]
  },
  {
   "cell_type": "code",
   "execution_count": 6,
   "metadata": {},
   "outputs": [
    {
     "name": "stdout",
     "output_type": "stream",
     "text": [
      "('Last time for databse update: ', '2018-04-07 22:25:09.719154')\n"
     ]
    }
   ],
   "source": [
    "from datetime import datetime\n",
    "print('Last time for databse update: ', str(datetime.now()))"
   ]
  },
  {
   "cell_type": "markdown",
   "metadata": {},
   "source": [
    "#### GUI for get transition"
   ]
  },
  {
   "cell_type": "code",
   "execution_count": 13,
   "metadata": {},
   "outputs": [
    {
     "name": "stdout",
     "output_type": "stream",
     "text": [
      "Import ASCII data from  spw0.imcontsub.scriptExtraction.forXCLASS.txt .. done!\n",
      "\n",
      "Number of data points =  1919\n",
      "First data point =  [  3.54391229e+05   2.25018500e-02]\n",
      "Last data point =  [  3.54625360e+05   1.92989700e-02]\n",
      "\n",
      "\n",
      " \n",
      " \n",
      "Analyze selected molecules ..\n",
      " \n",
      "Connection to sqlite3 database /home/bettyjo/yaolun/XCLASS-Interface/Database/cdms_sqlite.db established.\n",
      " \n",
      " \n",
      "Press right mouse button to select central frequency.\n",
      "Close plot window to exit GetTransition function.\n",
      "\n"
     ]
    },
    {
     "name": "stderr",
     "output_type": "stream",
     "text": [
      "/home/bettyjo/yaolun/anaconda/lib/python2.7/site-packages/matplotlib/axes/_base.py:2903: UserWarning: Attempting to set identical left==right results\n",
      "in singular transformations; automatically expanding.\n",
      "left=354391.229479, right=354391.229479\n",
      "  'left=%s, right=%s') % (left, right))\n"
     ]
    }
   ],
   "source": [
    "import task_LoadASCIIFile\n",
    "\n",
    "# load the ascii data\n",
    "data = 'spw0.imcontsub.scriptExtraction.forXCLASS.txt'\n",
    "NumHeaderLines = 0\n",
    "restfreq = 0\n",
    "vlsr = 0\n",
    "expdata = task_LoadASCIIFile.LoadASCIIFile(data, NumHeaderLines, restfreq, vlsr)\n",
    "\n",
    "# call GetTransition function\n",
    "import task_GetTransitions\n",
    "selectMolecule = []\n",
    "freqWidth = 5.0\n",
    "ElowMin = 0.0\n",
    "ElowMax = 3000.0\n",
    "freqMin = expdata[0].min()\n",
    "freqMax = expdata[0].max()\n",
    "task_GetTransitions.GetTransitions(expdata, freqMin, freqMax, selectMolecule, freqWidth, ElowMin, ElowMax, [[0],[0]])"
   ]
  },
  {
   "cell_type": "code",
   "execution_count": null,
   "metadata": {},
   "outputs": [],
   "source": []
  }
 ],
 "metadata": {
  "kernelspec": {
   "display_name": "Python 2",
   "language": "python",
   "name": "python2"
  },
  "language_info": {
   "codemirror_mode": {
    "name": "ipython",
    "version": 2
   },
   "file_extension": ".py",
   "mimetype": "text/x-python",
   "name": "python",
   "nbconvert_exporter": "python",
   "pygments_lexer": "ipython2",
   "version": "2.7.13"
  }
 },
 "nbformat": 4,
 "nbformat_minor": 2
}
